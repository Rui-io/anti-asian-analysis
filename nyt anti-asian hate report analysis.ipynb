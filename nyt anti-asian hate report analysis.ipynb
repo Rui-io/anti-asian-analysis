{
 "cells": [
  {
   "cell_type": "code",
   "execution_count": 1,
   "metadata": {},
   "outputs": [],
   "source": [
    "import requests\n",
    "import pandas as pd\n",
    "import matplotlib.pyplot as plt\n",
    "import seaborn as sb\n",
    "import numpy as np\n",
    "r = requests.get('https://www.nytimes.com/interactive/2021/04/03/us/anti-asian-attacks.html?searchResultPosition=9')"
   ]
  },
  {
   "cell_type": "code",
   "execution_count": 2,
   "metadata": {},
   "outputs": [],
   "source": [
    "from bs4 import BeautifulSoup\n",
    "soup = BeautifulSoup(r.text, 'html.parser')\n",
    "results=soup.find_all('div',attrs={'class':['incident_line covidn','incident_line covidy']})"
   ]
  },
  {
   "cell_type": "code",
   "execution_count": 3,
   "metadata": {},
   "outputs": [],
   "source": [
    "\"\"\"Scraping data\"\"\"\n",
    "records = []\n",
    "for result in results:\n",
    "    location=result.find('div',attrs ={'class':'meta metalg'}).text[17:-12]\n",
    "    description = result.find('span', attrs = {'class':'description_text'}).text\n",
    "    url=result.find('a')['href']\n",
    "    records.append((location, description, url))"
   ]
  },
  {
   "cell_type": "code",
   "execution_count": 4,
   "metadata": {},
   "outputs": [],
   "source": [
    "df = pd.DataFrame(records, columns=['location','description','url'])"
   ]
  },
  {
   "cell_type": "code",
   "execution_count": 5,
   "metadata": {},
   "outputs": [
    {
     "data": {
      "text/html": [
       "<div>\n",
       "<style scoped>\n",
       "    .dataframe tbody tr th:only-of-type {\n",
       "        vertical-align: middle;\n",
       "    }\n",
       "\n",
       "    .dataframe tbody tr th {\n",
       "        vertical-align: top;\n",
       "    }\n",
       "\n",
       "    .dataframe thead th {\n",
       "        text-align: right;\n",
       "    }\n",
       "</style>\n",
       "<table border=\"1\" class=\"dataframe\">\n",
       "  <thead>\n",
       "    <tr style=\"text-align: right;\">\n",
       "      <th></th>\n",
       "      <th>location</th>\n",
       "      <th>description</th>\n",
       "      <th>url</th>\n",
       "    </tr>\n",
       "  </thead>\n",
       "  <tbody>\n",
       "    <tr>\n",
       "      <th>0</th>\n",
       "      <td>Chicago</td>\n",
       "      <td>A 60-year-old Chinese-American man out for a r...</td>\n",
       "      <td>https://www.wbez.org/stories/asian-americans-i...</td>\n",
       "    </tr>\n",
       "    <tr>\n",
       "      <th>1</th>\n",
       "      <td>Manhattan</td>\n",
       "      <td>A 59-year-old man was kicked in the back and t...</td>\n",
       "      <td>https://nypost.com/2020/03/11/asian-man-is-vic...</td>\n",
       "    </tr>\n",
       "    <tr>\n",
       "      <th>2</th>\n",
       "      <td>Bronx</td>\n",
       "      <td>A 52-year-old woman on a bus was attacked by a...</td>\n",
       "      <td>https://www.nytimes.com/2021/03/18/nyregion/as...</td>\n",
       "    </tr>\n",
       "    <tr>\n",
       "      <th>3</th>\n",
       "      <td>Queens</td>\n",
       "      <td>A 47-year-old man and his 10-year-old son were...</td>\n",
       "      <td>https://nypost.com/2020/03/14/asian-man-son-ha...</td>\n",
       "    </tr>\n",
       "    <tr>\n",
       "      <th>4</th>\n",
       "      <td>Manhattan</td>\n",
       "      <td>A 34-year-old woman was attacked on the street...</td>\n",
       "      <td>https://pix11.com/news/coronavirus/woman-assau...</td>\n",
       "    </tr>\n",
       "  </tbody>\n",
       "</table>\n",
       "</div>"
      ],
      "text/plain": [
       "    location                                        description  \\\n",
       "0    Chicago  A 60-year-old Chinese-American man out for a r...   \n",
       "1  Manhattan  A 59-year-old man was kicked in the back and t...   \n",
       "2      Bronx  A 52-year-old woman on a bus was attacked by a...   \n",
       "3     Queens  A 47-year-old man and his 10-year-old son were...   \n",
       "4  Manhattan  A 34-year-old woman was attacked on the street...   \n",
       "\n",
       "                                                 url  \n",
       "0  https://www.wbez.org/stories/asian-americans-i...  \n",
       "1  https://nypost.com/2020/03/11/asian-man-is-vic...  \n",
       "2  https://www.nytimes.com/2021/03/18/nyregion/as...  \n",
       "3  https://nypost.com/2020/03/14/asian-man-son-ha...  \n",
       "4  https://pix11.com/news/coronavirus/woman-assau...  "
      ]
     },
     "execution_count": 5,
     "metadata": {},
     "output_type": "execute_result"
    }
   ],
   "source": [
    "df.head()"
   ]
  },
  {
   "cell_type": "code",
   "execution_count": 6,
   "metadata": {},
   "outputs": [
    {
     "data": {
      "text/html": [
       "<div>\n",
       "<style scoped>\n",
       "    .dataframe tbody tr th:only-of-type {\n",
       "        vertical-align: middle;\n",
       "    }\n",
       "\n",
       "    .dataframe tbody tr th {\n",
       "        vertical-align: top;\n",
       "    }\n",
       "\n",
       "    .dataframe thead th {\n",
       "        text-align: right;\n",
       "    }\n",
       "</style>\n",
       "<table border=\"1\" class=\"dataframe\">\n",
       "  <thead>\n",
       "    <tr style=\"text-align: right;\">\n",
       "      <th></th>\n",
       "      <th>location</th>\n",
       "      <th>description</th>\n",
       "      <th>url</th>\n",
       "      <th>outlet name</th>\n",
       "    </tr>\n",
       "  </thead>\n",
       "  <tbody>\n",
       "    <tr>\n",
       "      <th>0</th>\n",
       "      <td>Chicago</td>\n",
       "      <td>A 60-year-old Chinese-American man out for a r...</td>\n",
       "      <td>https://www.wbez.org/stories/asian-americans-i...</td>\n",
       "      <td>www.wbez.org</td>\n",
       "    </tr>\n",
       "    <tr>\n",
       "      <th>1</th>\n",
       "      <td>Manhattan</td>\n",
       "      <td>A 59-year-old man was kicked in the back and t...</td>\n",
       "      <td>https://nypost.com/2020/03/11/asian-man-is-vic...</td>\n",
       "      <td>nypost.com</td>\n",
       "    </tr>\n",
       "    <tr>\n",
       "      <th>2</th>\n",
       "      <td>Bronx</td>\n",
       "      <td>A 52-year-old woman on a bus was attacked by a...</td>\n",
       "      <td>https://www.nytimes.com/2021/03/18/nyregion/as...</td>\n",
       "      <td>www.nytimes.com</td>\n",
       "    </tr>\n",
       "    <tr>\n",
       "      <th>3</th>\n",
       "      <td>Queens</td>\n",
       "      <td>A 47-year-old man and his 10-year-old son were...</td>\n",
       "      <td>https://nypost.com/2020/03/14/asian-man-son-ha...</td>\n",
       "      <td>nypost.com</td>\n",
       "    </tr>\n",
       "    <tr>\n",
       "      <th>4</th>\n",
       "      <td>Manhattan</td>\n",
       "      <td>A 34-year-old woman was attacked on the street...</td>\n",
       "      <td>https://pix11.com/news/coronavirus/woman-assau...</td>\n",
       "      <td>pix11.com</td>\n",
       "    </tr>\n",
       "  </tbody>\n",
       "</table>\n",
       "</div>"
      ],
      "text/plain": [
       "    location                                        description  \\\n",
       "0    Chicago  A 60-year-old Chinese-American man out for a r...   \n",
       "1  Manhattan  A 59-year-old man was kicked in the back and t...   \n",
       "2      Bronx  A 52-year-old woman on a bus was attacked by a...   \n",
       "3     Queens  A 47-year-old man and his 10-year-old son were...   \n",
       "4  Manhattan  A 34-year-old woman was attacked on the street...   \n",
       "\n",
       "                                                 url      outlet name  \n",
       "0  https://www.wbez.org/stories/asian-americans-i...     www.wbez.org  \n",
       "1  https://nypost.com/2020/03/11/asian-man-is-vic...       nypost.com  \n",
       "2  https://www.nytimes.com/2021/03/18/nyregion/as...  www.nytimes.com  \n",
       "3  https://nypost.com/2020/03/14/asian-man-son-ha...       nypost.com  \n",
       "4  https://pix11.com/news/coronavirus/woman-assau...        pix11.com  "
      ]
     },
     "execution_count": 6,
     "metadata": {},
     "output_type": "execute_result"
    }
   ],
   "source": [
    "\"\"\"Extracting URL outlet name, adding outlet name column\"\"\"\n",
    "df['outlet name']=df['url'].apply(lambda x:x.split('/')[2])\n",
    "df.head(5)"
   ]
  },
  {
   "cell_type": "markdown",
   "metadata": {},
   "source": [
    "Extracting victim age from crime description where age was mentioned"
   ]
  },
  {
   "cell_type": "code",
   "execution_count": 7,
   "metadata": {},
   "outputs": [],
   "source": [
    "df['age']=df['description'].apply(lambda x:x.split('-')[0]).str.replace(r'\\A','')\n",
    "df['age']=df['age'].str.replace(r'\\D','')\n",
    "df['age']=(df['age'].replace(r'^\\s*$', np.nan, regex=True))\n"
   ]
  },
  {
   "cell_type": "markdown",
   "metadata": {},
   "source": [
    "Top 5 locations where hate crimes were reported"
   ]
  },
  {
   "cell_type": "code",
   "execution_count": 8,
   "metadata": {},
   "outputs": [
    {
     "name": "stdout",
     "output_type": "stream",
     "text": [
      "Manhattan      24\n",
      "Los Angeles     9\n",
      "Brooklyn        7\n",
      "Queens          7\n",
      "Seattle         5\n",
      "Name: location, dtype: int64\n"
     ]
    }
   ],
   "source": [
    "top_five=df['location'].value_counts().head(5)\n",
    "print(top_five)"
   ]
  },
  {
   "cell_type": "markdown",
   "metadata": {},
   "source": [
    "Graphing locations with occurences"
   ]
  },
  {
   "cell_type": "code",
   "execution_count": 9,
   "metadata": {},
   "outputs": [
    {
     "data": {
      "image/png": "[encoded data removed]",
      "text/plain": [
       "<Figure size 720x432 with 1 Axes>"
      ]
     },
     "metadata": {
      "needs_background": "light"
     },
     "output_type": "display_data"
    }
   ],
   "source": [
    "\"\"\"Bar Chart of top five locations\"\"\"\n",
    "plt.figure(figsize=(10,6))\n",
    "ax=top_five.plot.bar(color='#fc4903',x='Location', rot=0)\n",
    "plt.xticks(rotation = 45)\n",
    "plt.ylabel(\"Number of Hate Crime Occurances March 2020-April 2021\")\n",
    "plt.xlabel(\"Location of Where Hate Crime Took Place\")\n",
    "plt.show()"
   ]
  },
  {
   "cell_type": "markdown",
   "metadata": {},
   "source": [
    "Graphing frequency of reporting by online news outlets"
   ]
  },
  {
   "cell_type": "code",
   "execution_count": 10,
   "metadata": {},
   "outputs": [
    {
     "data": {
      "image/png": "[encoded data removed]",
      "text/plain": [
       "<Figure size 720x432 with 1 Axes>"
      ]
     },
     "metadata": {
      "needs_background": "light"
     },
     "output_type": "display_data"
    }
   ],
   "source": [
    "top_ten_outlets=df['outlet name'].value_counts().head(10)\n",
    "\n",
    "plt.figure(figsize=(10,6))\n",
    "ax=top_ten_outlets.plot.bar(color='#deb649',x='outlet name', rot=0)\n",
    "plt.xticks(rotation = 45)\n",
    "plt.ylabel(\"News Coverage of anti-asian hate crimes March 2020-April 2021\")\n",
    "plt.xlabel(\"Name of online news outlet\")\n",
    "plt.show()"
   ]
  },
  {
   "cell_type": "markdown",
   "metadata": {},
   "source": [
    "Number of crimes where the victim was spat on"
   ]
  },
  {
   "cell_type": "code",
   "execution_count": 11,
   "metadata": {},
   "outputs": [
    {
     "name": "stdout",
     "output_type": "stream",
     "text": [
      "Overall 9 crimes involved the victim being spat on\n"
     ]
    }
   ],
   "source": [
    "spitting=df[df['description'].str.contains('spit')]\n",
    "print(f\"Overall {len(spitting)} crimes involved the victim being spat on\")"
   ]
  },
  {
   "cell_type": "markdown",
   "metadata": {},
   "source": [
    "Anti-Asian attacks with referenced to the coronavirus"
   ]
  },
  {
   "cell_type": "code",
   "execution_count": 12,
   "metadata": {},
   "outputs": [
    {
     "name": "stdout",
     "output_type": "stream",
     "text": [
      "In total 48 attacks involved reference to the coronavirus\n"
     ]
    }
   ],
   "source": [
    "virus_mentions=df[df['description'].str.contains('virus')\n",
    "                  |df['description'].str.contains('infect') \n",
    "                  |df['description'].str.contains('sanitizer') \n",
    "                  |df['description'].str.contains('mask') \n",
    "                  |df['description'].str.contains('corona') \n",
    "                  |df['description'].str.contains('pandemic') \n",
    "                  |df['description'].str.contains('disease')\n",
    "                  |df['description'].str.contains('Wuhan')\n",
    "                  |df['description'].str.contains('covid')\n",
    "                  |df['description'].str.contains('COVID')\n",
    "                  |df['description'].str.contains('fault')\n",
    "                  |df['description'].str.contains('dirty')\n",
    "                 |df['description'].str.contains('flu')]\n",
    "print(f'In total {len(virus_mentions)} attacks involved reference to the coronavirus')"
   ]
  },
  {
   "cell_type": "markdown",
   "metadata": {},
   "source": [
    "Number of attacks involving racist rhetoic coined by Donald Trump"
   ]
  },
  {
   "cell_type": "code",
   "execution_count": 13,
   "metadata": {},
   "outputs": [
    {
     "name": "stdout",
     "output_type": "stream",
     "text": [
      "3 instances of hate crime involved racist rhetoric coined by Donald Trump\n"
     ]
    }
   ],
   "source": [
    "trump_rhetoric = df[df['description'].str.contains('kung flu')\n",
    "                  |df['description'].str.contains('China virus')]\n",
    "print(f\"{len(trump_rhetoric)} instances of hate crime involved racist rhetoric coined by Donald Trump\")"
   ]
  },
  {
   "cell_type": "markdown",
   "metadata": {},
   "source": [
    "Finding age of the oldest victim"
   ]
  },
  {
   "cell_type": "code",
   "execution_count": 14,
   "metadata": {},
   "outputs": [
    {
     "name": "stdout",
     "output_type": "stream",
     "text": [
      "The oldest victime chronicaled in the NYT article was 68\n"
     ]
    }
   ],
   "source": [
    "\"\"\"Converting age column from str to int to find out the oldest victim\"\"\"\n",
    "df['new_age']=df.age.fillna(0)\n",
    "df['new_age']=df.new_age.astype(int)\n",
    "df['new_age']=df.new_age.mask(df['new_age']>100,0) \n",
    "oldest_victim_age=df.new_age.max()\n",
    "print(f'The oldest victime chronicaled in the NYT article was {oldest_victim_age}')"
   ]
  },
  {
   "cell_type": "code",
   "execution_count": null,
   "metadata": {},
   "outputs": [],
   "source": []
  }
 ],
 "metadata": {
  "kernelspec": {
   "display_name": "Python 3",
   "language": "python",
   "name": "python3"
  },
  "language_info": {
   "codemirror_mode": {
    "name": "ipython",
    "version": 3
   },
   "file_extension": ".py",
   "mimetype": "text/x-python",
   "name": "python",
   "nbconvert_exporter": "python",
   "pygments_lexer": "ipython3",
   "version": "3.8.5"
  }
 },
 "nbformat": 4,
 "nbformat_minor": 4
}
